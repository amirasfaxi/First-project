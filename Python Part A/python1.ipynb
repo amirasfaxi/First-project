{
 "cells": [
  {
   "cell_type": "markdown",
   "id": "256aaa67",
   "metadata": {},
   "source": [
    "# Mission en conseil numérique appliqué à la data "
   ]
  },
  {
   "cell_type": "markdown",
   "id": "d3e4f85d",
   "metadata": {},
   "source": [
    "## Partie python Part A: "
   ]
  },
  {
   "cell_type": "markdown",
   "id": "6bcd9a02",
   "metadata": {},
   "source": [
    "### Objectifs\n",
    "- Connaitre les bases de python\n"
   ]
  },
  {
   "cell_type": "markdown",
   "id": "136dfe78",
   "metadata": {},
   "source": [
    "### Concept et déclaration d’une variable"
   ]
  },
  {
   "cell_type": "markdown",
   "id": "3fd90bb5",
   "metadata": {},
   "source": [
    "- Se retrouve dans pratiquement tous les langages\n",
    "- Données que vous stocké dans votre programme enregistré sous un nom. On pourra ensuite l’utiliser, faire des calculs la modifier."
   ]
  },
  {
   "cell_type": "code",
   "execution_count": 1,
   "id": "93145ec7",
   "metadata": {},
   "outputs": [
    {
     "name": "stdout",
     "output_type": "stream",
     "text": [
      "data scientist\n"
     ]
    }
   ],
   "source": [
    "job = 'data scientist'\n",
    "print(job)"
   ]
  },
  {
   "cell_type": "markdown",
   "id": "2ddb35d9",
   "metadata": {},
   "source": [
    "Les règles pour les noms de variable :\n",
    "- Pas d’espace (underscore)\n",
    "- Pas de chiffre au début (1_job = ‘ds’)\n",
    "- Attention à la casse (print(Job))\n",
    "- Mots interdits (Keyword) : True, Flase,str, Class...\n"
   ]
  },
  {
   "cell_type": "markdown",
   "id": "11750905",
   "metadata": {},
   "source": [
    "### Les type des variables"
   ]
  },
  {
   "cell_type": "code",
   "execution_count": 2,
   "id": "a536810a",
   "metadata": {},
   "outputs": [
    {
     "name": "stdout",
     "output_type": "stream",
     "text": [
      "<class 'int'>\n",
      "1.25\n",
      "<class 'str'>\n"
     ]
    }
   ],
   "source": [
    "nombre_1 = 80\n",
    "print(type(nombre_1))\n",
    "nombre_2 = 1.25\n",
    "print((nombre_2))\n",
    "Class = \"1\"\n",
    "print(type(Class))"
   ]
  },
  {
   "cell_type": "markdown",
   "id": "cffe0f3a",
   "metadata": {},
   "source": [
    "#### modifier le type d'une variable"
   ]
  },
  {
   "cell_type": "code",
   "execution_count": 3,
   "id": "8dae79dc",
   "metadata": {},
   "outputs": [
    {
     "data": {
      "text/plain": [
       "'1'"
      ]
     },
     "execution_count": 3,
     "metadata": {},
     "output_type": "execute_result"
    }
   ],
   "source": [
    "float(1)\n",
    "int(1.3)\n",
    "str(1)"
   ]
  },
  {
   "cell_type": "markdown",
   "id": "9e1beb6c",
   "metadata": {},
   "source": [
    "### Les chiffres et les opérateurs mathématiques"
   ]
  },
  {
   "cell_type": "code",
   "execution_count": 4,
   "id": "5e6acef6",
   "metadata": {},
   "outputs": [
    {
     "name": "stdout",
     "output_type": "stream",
     "text": [
      "1\n"
     ]
    }
   ],
   "source": [
    "\n",
    "number = 1/3\n",
    "number = 6*6\n",
    "number  = 2**3\n",
    "number = 10%3\n",
    "\n",
    "print(number)"
   ]
  },
  {
   "cell_type": "markdown",
   "id": "92f637a9",
   "metadata": {},
   "source": [
    "### Les conditions\n"
   ]
  },
  {
   "cell_type": "code",
   "execution_count": 5,
   "id": "2cc87c1e",
   "metadata": {},
   "outputs": [
    {
     "name": "stdout",
     "output_type": "stream",
     "text": [
      "A plus petit que B\n"
     ]
    }
   ],
   "source": [
    "A = 20\n",
    "B = 30\n",
    "if A > B :\n",
    "    print('A plus grand que B')\n",
    "elif A == B :\n",
    "    print('A égal à B')\n",
    "else:\n",
    "    print('A plus petit que B')"
   ]
  },
  {
   "cell_type": "markdown",
   "id": "54d35e13",
   "metadata": {},
   "source": [
    "### Les listes"
   ]
  },
  {
   "cell_type": "code",
   "execution_count": 6,
   "id": "396ef065",
   "metadata": {},
   "outputs": [
    {
     "name": "stdout",
     "output_type": "stream",
     "text": [
      "['smartphone', 'chaussures', 'console']\n",
      "[10000, 15000, 12000]\n",
      "[['smartphone', 1000], ['chaussures', 1000], ['console', 400]]\n"
     ]
    }
   ],
   "source": [
    "produits = ['smartphone','chaussures','console']\n",
    "caParJour = [10000,15000,12000]\n",
    "produitsPrix = [['smartphone',1000],['chaussures',1000],['console',400]]\n",
    "print(produits)\n",
    "print(caParJour)\n",
    "print(produitsPrix)"
   ]
  },
  {
   "cell_type": "markdown",
   "id": "f7be1d95",
   "metadata": {},
   "source": [
    "##### Manipulation d'une liste"
   ]
  },
  {
   "cell_type": "code",
   "execution_count": 7,
   "id": "facc3788",
   "metadata": {},
   "outputs": [
    {
     "name": "stdout",
     "output_type": "stream",
     "text": [
      "smartphone\n",
      "15000\n",
      "[['smartphone', 1000], ['chaussures', 1000], ['console', 400]]\n",
      "400\n",
      "['smartphone', 'chaussures']\n"
     ]
    }
   ],
   "source": [
    "#acceder à un élément d'une liste (attention cela commence à 0)\n",
    "print(produits[0])\n",
    "print(caParJour[1])\n",
    "\n",
    "print(produitsPrix)\n",
    "print(produitsPrix[2][1])\n",
    "print(produits[0:2])"
   ]
  },
  {
   "cell_type": "code",
   "execution_count": 8,
   "id": "e302a3e9",
   "metadata": {},
   "outputs": [
    {
     "name": "stdout",
     "output_type": "stream",
     "text": [
      "3\n"
     ]
    }
   ],
   "source": [
    "#connaitre la longueur d'une liste\n",
    "print(len(caParJour))"
   ]
  },
  {
   "cell_type": "code",
   "execution_count": 9,
   "id": "98934250",
   "metadata": {},
   "outputs": [
    {
     "data": {
      "text/plain": [
       "3"
      ]
     },
     "execution_count": 9,
     "metadata": {},
     "output_type": "execute_result"
    }
   ],
   "source": [
    "#connaitre le nombre d'élements d'un élément spécifique\n",
    "countDemo = ['A','B','C','A','A']\n",
    "countDemo.count('A')"
   ]
  },
  {
   "cell_type": "code",
   "execution_count": 10,
   "id": "2e37ac2e",
   "metadata": {},
   "outputs": [
    {
     "data": {
      "text/plain": [
       "2"
      ]
     },
     "execution_count": 10,
     "metadata": {},
     "output_type": "execute_result"
    }
   ],
   "source": [
    "#connaitre la position d'un élément spécifique\n",
    "countDemo.index('C')"
   ]
  },
  {
   "cell_type": "code",
   "execution_count": 11,
   "id": "92159b79",
   "metadata": {},
   "outputs": [
    {
     "name": "stdout",
     "output_type": "stream",
     "text": [
      "[10000, 12000, 15000]\n"
     ]
    }
   ],
   "source": [
    "#trier une liste\n",
    "caParJour.sort()\n",
    "print(caParJour)"
   ]
  },
  {
   "cell_type": "code",
   "execution_count": 12,
   "id": "49c370eb",
   "metadata": {},
   "outputs": [
    {
     "data": {
      "text/plain": [
       "37000"
      ]
     },
     "execution_count": 12,
     "metadata": {},
     "output_type": "execute_result"
    }
   ],
   "source": [
    "#faire la somme d'une liste\n",
    "sum(caParJour)"
   ]
  },
  {
   "cell_type": "code",
   "execution_count": 13,
   "id": "d460ccb5",
   "metadata": {},
   "outputs": [
    {
     "name": "stdout",
     "output_type": "stream",
     "text": [
      "True\n",
      "il y a bien un smartphone dans la liste\n"
     ]
    }
   ],
   "source": [
    "#vérifier si un élement est dans une liste\n",
    "print('smartphone' in produits)\n",
    "\n",
    "if 'smartphone' in produits:\n",
    "    print('il y a bien un smartphone dans la liste')"
   ]
  },
  {
   "cell_type": "code",
   "execution_count": 14,
   "id": "b7350a62",
   "metadata": {},
   "outputs": [
    {
     "name": "stdout",
     "output_type": "stream",
     "text": [
      "['A', 'B', 'E', 'A', 'A']\n"
     ]
    }
   ],
   "source": [
    "#Changer la valeur d'un item\n",
    "countDemo = ['A','B','C','A','A']\n",
    "countDemo[2] = 'E'\n",
    "print(countDemo)"
   ]
  },
  {
   "cell_type": "code",
   "execution_count": 15,
   "id": "7655dfa1",
   "metadata": {},
   "outputs": [
    {
     "name": "stdout",
     "output_type": "stream",
     "text": [
      "['A', 'B', 'C', 'A', 'A', 'F']\n"
     ]
    }
   ],
   "source": [
    "#Ajouter un item\n",
    "countDemo = ['A','B','C','A','A']\n",
    "countDemo.append('F')\n",
    "print(countDemo)"
   ]
  },
  {
   "cell_type": "code",
   "execution_count": 16,
   "id": "5bd61131",
   "metadata": {},
   "outputs": [
    {
     "name": "stdout",
     "output_type": "stream",
     "text": [
      "['G', 'A', 'B', 'C', 'A', 'A']\n"
     ]
    }
   ],
   "source": [
    "#inserer un item dans une position précise\n",
    "countDemo = ['A','B','C','A','A']\n",
    "countDemo.insert(0,'G')\n",
    "print(countDemo)"
   ]
  },
  {
   "cell_type": "code",
   "execution_count": 17,
   "id": "b0e531f9",
   "metadata": {},
   "outputs": [
    {
     "name": "stdout",
     "output_type": "stream",
     "text": [
      "['A', 'C', 'A', 'A']\n"
     ]
    }
   ],
   "source": [
    "#suppprimer un item spécifique\n",
    "countDemo = ['A','B','C','A','A']\n",
    "countDemo.remove('B')\n",
    "print(countDemo)"
   ]
  },
  {
   "cell_type": "code",
   "execution_count": 18,
   "id": "eeff94fe",
   "metadata": {},
   "outputs": [
    {
     "name": "stdout",
     "output_type": "stream",
     "text": [
      "['A', 'C', 'A', 'A']\n"
     ]
    }
   ],
   "source": [
    "#supprimer un item d'une position spécifique\n",
    "countDemo = ['A','B','C','A','A']\n",
    "countDemo.pop(1)\n",
    "print(countDemo)"
   ]
  },
  {
   "cell_type": "code",
   "execution_count": 19,
   "id": "d93c831a",
   "metadata": {},
   "outputs": [
    {
     "name": "stdout",
     "output_type": "stream",
     "text": [
      "['A', 'B', 'C', 'A', 'A']\n"
     ]
    }
   ],
   "source": [
    "#vider une list\n",
    "countDemo = ['A','B','C','A','A']\n",
    "countDemo.clear\n",
    "print(countDemo)"
   ]
  },
  {
   "cell_type": "markdown",
   "id": "c6979c1d",
   "metadata": {},
   "source": [
    "### Les boucles"
   ]
  },
  {
   "cell_type": "markdown",
   "id": "65126ff9",
   "metadata": {},
   "source": [
    "#### Les boucles while"
   ]
  },
  {
   "cell_type": "code",
   "execution_count": 20,
   "id": "13856fed",
   "metadata": {},
   "outputs": [
    {
     "name": "stdout",
     "output_type": "stream",
     "text": [
      "1\n",
      "2\n",
      "3\n",
      "4\n",
      "5\n",
      "6\n"
     ]
    }
   ],
   "source": [
    "#déclaration d'une boucle while\n",
    "i = 1\n",
    "while i <= 6:\n",
    "    print(i)\n",
    "    i = i+1"
   ]
  },
  {
   "cell_type": "code",
   "execution_count": 21,
   "id": "fdb950cc",
   "metadata": {},
   "outputs": [
    {
     "name": "stdout",
     "output_type": "stream",
     "text": [
      "1\n",
      "2\n",
      "3\n"
     ]
    }
   ],
   "source": [
    "#interuption d'une boucle avec break\n",
    "i = 1\n",
    "while i < 6:\n",
    "    print(i)\n",
    "    if i == 3:\n",
    "        break\n",
    "    i += 1"
   ]
  },
  {
   "cell_type": "code",
   "execution_count": 22,
   "id": "065b2ad9",
   "metadata": {},
   "outputs": [
    {
     "name": "stdout",
     "output_type": "stream",
     "text": [
      "1\n",
      "2\n",
      "4\n",
      "5\n",
      "6\n"
     ]
    }
   ],
   "source": [
    "#ne pas lire la suite du code et passer directement à la boucle suivante avec continue\n",
    "i = 0\n",
    "while i < 6:\n",
    "    i += 1 \n",
    "    if i == 3:\n",
    "        continue\n",
    "    print(i)"
   ]
  },
  {
   "cell_type": "markdown",
   "id": "4a781896",
   "metadata": {},
   "source": [
    "#### Les boucles for "
   ]
  },
  {
   "cell_type": "code",
   "execution_count": 23,
   "id": "f7cd0b22",
   "metadata": {},
   "outputs": [
    {
     "name": "stdout",
     "output_type": "stream",
     "text": [
      "smartphone\n",
      "10000\n",
      "chaussures\n",
      "15000\n",
      "console\n",
      "12000\n"
     ]
    }
   ],
   "source": [
    "produits = ['smartphone','chaussures','console']\n",
    "caParJour = [10000,15000,12000]\n",
    "\n",
    "for i in range(len(produits)):\n",
    "    print(produits[i])\n",
    "    print(caParJour[i])"
   ]
  },
  {
   "cell_type": "markdown",
   "id": "e0556e72",
   "metadata": {},
   "source": [
    "### Les dictionnaires"
   ]
  },
  {
   "cell_type": "code",
   "execution_count": 24,
   "id": "f1cceced",
   "metadata": {},
   "outputs": [
    {
     "name": "stdout",
     "output_type": "stream",
     "text": [
      "{'smartphone': 1000, 'chaussures': 100, 'console': 400}\n"
     ]
    }
   ],
   "source": [
    "produitsDict = {'smartphone':1000,'chaussures':100,'console':400}\n",
    "print(produitsDict)"
   ]
  },
  {
   "cell_type": "code",
   "execution_count": 25,
   "id": "4b176849",
   "metadata": {},
   "outputs": [
    {
     "name": "stdout",
     "output_type": "stream",
     "text": [
      "400\n"
     ]
    }
   ],
   "source": [
    "#trouver la valeur d'un item\n",
    "print(produitsDict['console'])"
   ]
  },
  {
   "cell_type": "code",
   "execution_count": 26,
   "id": "1354343e",
   "metadata": {},
   "outputs": [
    {
     "name": "stdout",
     "output_type": "stream",
     "text": [
      "True\n"
     ]
    }
   ],
   "source": [
    "#vérifier si un item est présent\n",
    "print('smartphone' in produitsDict)"
   ]
  },
  {
   "cell_type": "code",
   "execution_count": 27,
   "id": "ee10b642",
   "metadata": {},
   "outputs": [
    {
     "name": "stdout",
     "output_type": "stream",
     "text": [
      "3\n"
     ]
    }
   ],
   "source": [
    "#vérifier la longueur d'un dictionnaire\n",
    "print(len(produitsDict))"
   ]
  },
  {
   "cell_type": "code",
   "execution_count": 28,
   "id": "198a5aac",
   "metadata": {},
   "outputs": [
    {
     "name": "stdout",
     "output_type": "stream",
     "text": [
      "dict_keys(['smartphone', 'chaussures', 'console'])\n",
      "['smartphone', 'chaussures', 'console']\n"
     ]
    }
   ],
   "source": [
    "#obtenir à nouveau une liste d'items\n",
    "print(produitsDict.keys())\n",
    "print(list(produitsDict.keys()))"
   ]
  },
  {
   "cell_type": "code",
   "execution_count": 29,
   "id": "068912cf",
   "metadata": {},
   "outputs": [
    {
     "name": "stdout",
     "output_type": "stream",
     "text": [
      "dict_values([1000, 100, 400])\n",
      "[1000, 100, 400]\n"
     ]
    }
   ],
   "source": [
    "#obtenir à nouveau une liste de valeurs\n",
    "print(produitsDict.values())\n",
    "print(list(produitsDict.values()))"
   ]
  },
  {
   "cell_type": "code",
   "execution_count": 30,
   "id": "e0e50f40",
   "metadata": {},
   "outputs": [
    {
     "name": "stdout",
     "output_type": "stream",
     "text": [
      "dict_values([1000, 100, 400])\n",
      "[1000, 100, 400]\n"
     ]
    }
   ],
   "source": [
    "#obtenir à nouveau une liste de valeurs\n",
    "print(produitsDict.values())\n",
    "print(list(produitsDict.values()))"
   ]
  },
  {
   "cell_type": "code",
   "execution_count": 31,
   "id": "8df8bd96",
   "metadata": {},
   "outputs": [
    {
     "name": "stdout",
     "output_type": "stream",
     "text": [
      "{'smartphone': 1000, 'chaussures': 100, 'console': 400}\n",
      "{'chaussures': 100, 'console': 400}\n"
     ]
    }
   ],
   "source": [
    "#Supprimer un item\n",
    "print(produitsDict)\n",
    "produitsDict.pop(\"smartphone\")\n",
    "print(produitsDict)"
   ]
  },
  {
   "cell_type": "markdown",
   "id": "261aadf1",
   "metadata": {},
   "source": [
    "### Les fonctions"
   ]
  },
  {
   "cell_type": "code",
   "execution_count": 32,
   "id": "f5ea005d",
   "metadata": {},
   "outputs": [
    {
     "name": "stdout",
     "output_type": "stream",
     "text": [
      "(24.0, 4.0)\n",
      "(21.0, 1.0)\n"
     ]
    }
   ],
   "source": [
    "def calculPrixTTC(prixht,TVA=0.20):\n",
    "    prixttc = prixht*(1+TVA)\n",
    "    coutTVA = prixttc - prixht\n",
    "    return prixttc, coutTVA\n",
    "\n",
    "test1 = calculPrixTTC(20)\n",
    "print(test1)\n",
    "test2 = calculPrixTTC(20,0.05)\n",
    "print(test2)"
   ]
  },
  {
   "cell_type": "markdown",
   "id": "41ca235e",
   "metadata": {},
   "source": [
    "### Les Excepetions"
   ]
  },
  {
   "cell_type": "code",
   "execution_count": 33,
   "id": "af702464",
   "metadata": {},
   "outputs": [
    {
     "name": "stdout",
     "output_type": "stream",
     "text": [
      "entrer un nombre: 0\n",
      "Error...\n",
      "la fin\n"
     ]
    }
   ],
   "source": [
    "try:\n",
    "    x = int(input(\"entrer un nombre: \"))\n",
    "    y = 1 / x\n",
    "except:\n",
    "    print(\"Error...\")\n",
    "\n",
    "print(\"la fin\")"
   ]
  }
 ],
 "metadata": {
  "kernelspec": {
   "display_name": "Python 3 (ipykernel)",
   "language": "python",
   "name": "python3"
  },
  "language_info": {
   "codemirror_mode": {
    "name": "ipython",
    "version": 3
   },
   "file_extension": ".py",
   "mimetype": "text/x-python",
   "name": "python",
   "nbconvert_exporter": "python",
   "pygments_lexer": "ipython3",
   "version": "3.9.12"
  }
 },
 "nbformat": 4,
 "nbformat_minor": 5
}
